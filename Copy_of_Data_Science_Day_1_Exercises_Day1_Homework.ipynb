{
 "cells": [
  {
   "cell_type": "markdown",
   "metadata": {
    "id": "KdERlTpFuL5V"
   },
   "source": [
    "# Exercises"
   ]
  },
  {
   "cell_type": "markdown",
   "metadata": {
    "id": "to-gsrQyuL5Z"
   },
   "source": [
    "### #1 - Calculate the BMI (body mass index) on the two lists below using NDArrays..."
   ]
  },
  {
   "cell_type": "code",
   "execution_count": 16,
   "metadata": {
    "id": "iZlf9DzeuL5a"
   },
   "outputs": [
    {
     "name": "stdout",
     "output_type": "stream",
     "text": [
      "[17 18 19 20 21 21 22]\n"
     ]
    }
   ],
   "source": [
    "import numpy as np\n",
    "# formula = weight / (height**2) * 730\n",
    "height = [69, 70, 71, 72, 73, 74, 75]\n",
    "weight = [110, 120, 130, 140, 150, 160, 170]\n",
    "\n",
    "bmi = 750 * np.array(weight) / (np.array(height) ** 2)\n",
    "bmi = bmi.astype(np.int64)\n",
    "print(bmi)"
   ]
  },
  {
   "cell_type": "markdown",
   "metadata": {
    "id": "RSsT8w8ouL5b"
   },
   "source": [
    "### #2 - Create a function that will take in two parameters and will create a random matrix based off of those parameters. Extra: Have additional parameters taken in that allow the user to choose the shape and data type of the matrix."
   ]
  },
  {
   "cell_type": "code",
   "execution_count": null,
   "metadata": {
    "id": "ygFvj0aeuL5b"
   },
   "outputs": [],
   "source": [
    "import numpy as np\n",
    "from numpy import random\n",
    "\n",
    "def rand_matrix(minNum, maxNum, in_shape = 'random', data_type = 'i'):\n",
    "    '''\n",
    "    All matrices created as integers except float type, then changed to given data type.\n",
    "    inputs: minimum number: Required. Must be integer.\n",
    "            maximum number: Required. Must be integer.\n",
    "            shape: Optional. Defaults to random.  Must be integer or tuple.\n",
    "            data type: Optional. Defaults to integer. If shape not specified, must specify as 'data_type ='\n",
    "    '''\n",
    "    from numpy import random\n",
    "    \n",
    "    if in_shape == 'random':\n",
    "        x_size = np.random.randint(0,50)\n",
    "        y_size = np.random.randint(0,50)\n",
    "        z_size = np.random.randint(0,50)\n",
    "        in_shape = (x_size, y_size, z_size)\n",
    "        print(in_shape)\n",
    "    elif isinstance(in_shape,tuple):\n",
    "        print(f'shaped passed is a tuple: {in_shape}')\n",
    "    else:\n",
    "        try:\n",
    "            in_shape = int(in_shape)\n",
    "        except:\n",
    "            print(f'shape was passed as {in_shape} with type {type(in_shape)}')\n",
    "            return \"Invalid entry for shape.  Must be integer or tuple of integers. Error_1\"\n",
    "        \n",
    "\n",
    "    if data_type == 'i' or data_type == 'int64':\n",
    "        M = random.randint(maxNum, size = in_shape)\n",
    "    elif data_type == 'f':\n",
    "        if isinstance(in_shape, tuple):\n",
    "            if len(in_shape) == 2:\n",
    "                M = random.rand(in_shape[0], in_shape[1])\n",
    "            elif len(in_shape) == 3:\n",
    "                M = random.rand(in_shape[0], in_shape[1], in_shape[2])\n",
    "            elif len(in_shape) == 4:\n",
    "                M = random.rand(in_shape[0], in_shape[1], in_shape[2], in_shape[3])\n",
    "            elif len(in_shape) == 5:\n",
    "                M = random.rand(in_shape[0], in_shape[1], in_shape[2], in_shape[3], in_shape[4])\n",
    "            elif len(in_shape) == 6:\n",
    "                M = random.rand(in_shape[0], in_shape[1], in_shape[2], in_shape[3], in_shape[4], in_shape[5])\n",
    "            else:\n",
    "                print(f\"input shape {in_shape} too long for support of this function.\")\n",
    "                return \"Limit to 6 elements\"\n",
    "            \n",
    "            # print(f'M = \\n{M}')  ### For Debugging\n",
    "            M2 = random.randint(minNum, maxNum, size = in_shape)\n",
    "            # print(f'M2 = \\n{M2}')  ### For Debugging\n",
    "            M = M + M2\n",
    "            # print(f'M = \\n{M}')  ### For Debugging\n",
    "\n",
    "        else:\n",
    "            M = random.rand(in_shape)\n",
    "            M2 = random.randint(minNum, maxNum, in_shape)\n",
    "            M = M + M2\n",
    "            # print(f'M = \\n{M}')  ### For Debugging\n",
    "    elif data_type == 'b':\n",
    "        M = random.randint(0, 2, size = in_shape)\n",
    "        M = M.astype('b')\n",
    "    elif data_type == 'u':        ############ 'u' not recognized as valid data type\n",
    "        print(\"Unicode not supported at this time.\")\n",
    "        # M = random.randint(minNum, maxNum, in_shape)\n",
    "        # M = M.astype('u')\n",
    "    elif data_type == 'c':\n",
    "        return \"Debugging taking too more time than it's worth.\"\n",
    "        # if isinstance(in_shape, tuple):\n",
    "        #     if len(in_shape) == 2:\n",
    "        #         M1 = random.rand(in_shape[0], in_shape[1])\n",
    "        #     elif len(in_shape) == 3:\n",
    "        #         M1 = random.rand(in_shape[0], in_shape[1], in_shape[2])\n",
    "        #     elif len(in_shape) == 4:\n",
    "        #         M1 = random.rand(in_shape[0], in_shape[1], in_shape[2], in_shape[3])\n",
    "        #     elif len(in_shape) == 5:\n",
    "        #         M1 = random.rand(in_shape[0], in_shape[1], in_shape[2], in_shape[3], in_shape[4])\n",
    "        #     elif len(in_shape) == 6:\n",
    "        #         M1 = random.rand(in_shape[0], in_shape[1], in_shape[2], in_shape[3], in_shape[4], in_shape[5])\n",
    "        #     else:\n",
    "        #         print(f\"input shape {in_shape} too long for support of this function.\")\n",
    "        #         return \"Limit to 6 elements\"\n",
    "        # else:\n",
    "        #     M1 = random.rand(in_shape)\n",
    "        # M1 = M1.astype('c')\n",
    "        # M2 = random.randint(minNum, maxNum, in_shape)\n",
    "        # M2 = M2.astype('c')\n",
    "        # M = np.concatenate(M2,M1)\n",
    "    elif data_type == 'm':  ## Time Delta\n",
    "        if isinstance(in_shape, tuple):\n",
    "            if len(in_shape) == 2:\n",
    "                M = random.rand(in_shape[0], in_shape[1])\n",
    "            elif len(in_shape) == 3:\n",
    "                M = random.rand(in_shape[0], in_shape[1], in_shape[2])\n",
    "            elif len(in_shape) == 4:\n",
    "                M = random.rand(in_shape[0], in_shape[1], in_shape[2], in_shape[3])\n",
    "            elif len(in_shape) == 5:\n",
    "                M = random.rand(in_shape[0], in_shape[1], in_shape[2], in_shape[3], in_shape[4])\n",
    "            elif len(in_shape) == 6:\n",
    "                M = random.rand(in_shape[0], in_shape[1], in_shape[2], in_shape[3], in_shape[4], in_shape[5])\n",
    "            else:\n",
    "                print(f\"input shape {in_shape} too long for support of this function.\")\n",
    "                return \"Limit to 6 elements\"\n",
    "            \n",
    "            # print(f'M = \\n{M}')  ### For Debugging\n",
    "            M2 = random.randint(minNum, maxNum, size = in_shape)\n",
    "            # print(f'M2 = \\n{M2}')  ### For Debugging\n",
    "            M = M + M2\n",
    "            # print(f'M = \\n{M}')  ### For Debugging\n",
    "        else:\n",
    "            M = random.rand(in_shape)\n",
    "            M2 = random.randint(minNum, maxNum, in_shape)\n",
    "            M = M + M2\n",
    "            # print(f'M = \\n{M}')  ### For Debugging\n",
    "        M = M.astype('m')\n",
    "    elif data_type == 'M':\n",
    "          return \"Debugging taking too more time than it's worth.\"\n",
    "      \n",
    "        # if isinstance(in_shape, tuple):\n",
    "        #     if len(in_shape) == 2:\n",
    "        #         M = random.rand(in_shape[0], in_shape[1])\n",
    "        #     elif len(in_shape) == 3:\n",
    "        #         M = random.rand(in_shape[0], in_shape[1], in_shape[2])\n",
    "        #     elif len(in_shape) == 4:\n",
    "        #         M = random.rand(in_shape[0], in_shape[1], in_shape[2], in_shape[3])\n",
    "        #     elif len(in_shape) == 5:\n",
    "        #         M = random.rand(in_shape[0], in_shape[1], in_shape[2], in_shape[3], in_shape[4])\n",
    "        #     elif len(in_shape) == 6:\n",
    "        #         M = random.rand(in_shape[0], in_shape[1], in_shape[2], in_shape[3], in_shape[4], in_shape[5])\n",
    "        #     else:\n",
    "        #         print(f\"input shape {in_shape} too long for support of this function.\")\n",
    "        #         return \"Limit to 6 elements\"\n",
    "            \n",
    "        #     # print(f'M = \\n{M}')  ### For Debugging\n",
    "        #     M2 = random.randint(minNum, maxNum, size = in_shape)\n",
    "        #     # print(f'M2 = \\n{M2}')  ### For Debugging\n",
    "        #     M = M + M2\n",
    "        #     # print(f'M = \\n{M}')  ### For Debugging\n",
    "        # else:\n",
    "        #     M = random.rand(in_shape)\n",
    "        #     M2 = random.randint(minNum, maxNum, in_shape)\n",
    "        #     M = M + M2\n",
    "        #     # print(f'M = \\n{M}')  ### For Debugging\n",
    "        # M = M.astype('M')\n",
    "    elif data_type == 'O':\n",
    "        M = random.randint(minNum, maxNum, in_shape)\n",
    "        M = M.astype('O')\n",
    "    elif data_type == 'S':\n",
    "        M = random.randint(minNum, maxNum, in_shape)\n",
    "        M = M.astype('S')\n",
    "    elif data_type == 'U':\n",
    "        M = random.randint(minNum, maxNum, in_shape)\n",
    "        M = M.astype('U')\n",
    "    elif data_type == 'V':\n",
    "        M = random.randint(minNum, maxNum, in_shape)\n",
    "        M = M.astype('V')\n",
    "    else:\n",
    "        print('\\nInvalid datatype. Must select from:')\n",
    "        print('i - integer')\n",
    "        print('b - boolean')\n",
    "        print('u - unsigned integer')\n",
    "        print('f - float')\n",
    "        print('c - complex float')\n",
    "        print('m - timedelta')\n",
    "        print('M - datetime')\n",
    "        print('O - object')\n",
    "        print('S - string')\n",
    "        # print('U - unicode string')\n",
    "        print('V - fixed chunk of memory for other type ( void )')\n",
    "\n",
    "    return M\n",
    "            \n"
   ]
  },
  {
   "cell_type": "markdown",
   "metadata": {
    "id": "e5mP1UX9uL5c"
   },
   "source": [
    "### #3 - Extra: Open and load the data in the two text files that have the Boston Red Sox hitting data for the past seasons. Compare the difference in the two years by putting the data into an NDArray and running a differencial operation on it. The column to look for will be SLG.\n",
    "\n",
    "Your output should display which year (either 2017 or 2018) was a better year based on SLG"
   ]
  },
  {
   "cell_type": "code",
   "execution_count": 39,
   "metadata": {
    "id": "iAExC-SjuL5c"
   },
   "outputs": [
    {
     "name": "stdout",
     "output_type": "stream",
     "text": [
      "Average SLG: \n",
      " 2017: 0.39334782374941785\n",
      " 2018: 0.38750000335276125\n",
      "\n",
      "2017 was a better year, with 0.39334782374941785 SLG.\n"
     ]
    }
   ],
   "source": [
    "import csv\n",
    "import numpy as np\n",
    "\n",
    "###  Copy & paste  ###\n",
    "\n",
    "FIELDS = ['Rk', 'Pos', 'Name', 'Age', 'G', 'PA', 'AB', 'R', 'H', '2B', '3B', 'HR', 'RBI', 'SB', 'CS', \n",
    "          'BB', 'SO', 'BA', 'OBP', 'SLG', 'OPS', 'OPS+', 'TB', 'GDP', 'HBP', 'SH', 'SF', 'IBB']\n",
    "\n",
    "DATATYPES = [('rk', 'i'), ('pos', '|S25'), ('name', '|S25'), ('age', 'i'), ('g', 'i'), ('pa', 'i'), ('ab', 'i'),\n",
    "                ('r', 'i'), ('h', 'i'), ('2b', 'i'), ('3b', 'i'), ('hr', 'i'), ('rbi', 'i'), ('sb', 'i'), ('cs', 'i'),\n",
    "                ('bb', 'i'), ('so', 'i'), ('ba', 'f'), ('obp', 'f'), ('slg', 'f'), ('ops', 'f'), ('opsp', 'i'),\n",
    "                ('tb', 'i'), ('gdp', 'i'), ('hbp', 'i'), ('sh', 'i'), ('sf', 'i'), ('ibb', 'i')]\n",
    "\n",
    "\n",
    "\n",
    "\n",
    "def load_data(filename, d = ', '): ###### Had to adjust files to have ', ' rather than just ','\n",
    "    data = np.genfromtxt(filename,delimiter = d, skip_header = 1,\n",
    "                        usecols = np.arange(0,24),invalid_raise=False,\n",
    "                        names = FIELDS, dtype = DATATYPES)\n",
    "    return data\n",
    "\n",
    "############## My code #############\n",
    "\n",
    "bs2017 = load_data('redsox_2017_hitting.txt')\n",
    "bs2018 = load_data('redsox_2018_hitting.txt')\n",
    "\n",
    "SLG_2017 = bs2017['SLG']\n",
    "SLG_2018 = bs2018['SLG']\n",
    "\n",
    "SLG_2017 = SLG_2017.tolist()\n",
    "SLG_2018 = SLG_2018.tolist()\n",
    "\n",
    "type(SLG_2017)\n",
    "\n",
    "avg_SLG_2017 = sum(SLG_2017)/len(SLG_2017)\n",
    "avg_SLG_2018 = sum(SLG_2018)/len(SLG_2018)\n",
    "print(f'Average SLG: \\n 2017: {avg_SLG_2017}\\n 2018: {avg_SLG_2018}')\n",
    "if avg_SLG_2017 > avg_SLG_2018:\n",
    "    print(f'\\n2017 was a better year, with {avg_SLG_2017} SLG.')\n",
    "else:\n",
    "    print(f'\\n2018 was a better year, with {avg_SLG_2018} SLG.')\n"
   ]
  },
  {
   "cell_type": "code",
   "execution_count": null,
   "metadata": {
    "id": "P8Rwr8lmuL5e"
   },
   "outputs": [],
   "source": [
    "FIELDS = ['Rk', 'Pos', 'Name', 'Age', 'G', 'PA', 'AB', 'R', 'H', '2B', '3B', 'HR', 'RBI', 'SB', 'CS', \n",
    "          'BB', 'SO', 'BA', 'OBP', 'SLG', 'OPS', 'OPS+', 'TB', 'GDP', 'HBP', 'SH', 'SF', 'IBB']\n",
    "\n",
    "DATATYPES = [('rk', 'i'), ('pos', '|S25'), ('name', '|S25'), ('age', 'i'), ('g', 'i'), ('pa', 'i'), ('ab', 'i'),\n",
    "                ('r', 'i'), ('h', 'i'), ('2b', 'i'), ('3b', 'i'), ('hr', 'i'), ('rbi', 'i'), ('sb', 'i'), ('cs', 'i'),\n",
    "                ('bb', 'i'), ('so', 'i'), ('ba', 'f'), ('obp', 'f'), ('slg', 'f'), ('ops', 'f'), ('opsp', 'i'),\n",
    "                ('tb', 'i'), ('gdp', 'i'), ('hbp', 'i'), ('sh', 'i'), ('sf', 'i'), ('ibb', 'i')]\n",
    "\n",
    "#Use this function to actually open the data inside of a NDArray\n",
    "\n",
    "\n"
   ]
  }
 ],
 "metadata": {
  "colab": {
   "name": "Copy of Data_Science_Day_1_Exercises-Day1- Homework.ipynb",
   "provenance": []
  },
  "kernelspec": {
   "display_name": "Python 3 (ipykernel)",
   "language": "python",
   "name": "python3"
  },
  "language_info": {
   "codemirror_mode": {
    "name": "ipython",
    "version": 3
   },
   "file_extension": ".py",
   "mimetype": "text/x-python",
   "name": "python",
   "nbconvert_exporter": "python",
   "pygments_lexer": "ipython3",
   "version": "3.9.13"
  }
 },
 "nbformat": 4,
 "nbformat_minor": 1
}
